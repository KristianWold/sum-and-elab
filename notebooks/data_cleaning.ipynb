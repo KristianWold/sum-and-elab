{
 "cells": [
  {
   "cell_type": "markdown",
   "id": "04010a08",
   "metadata": {},
   "source": [
    "## LLM"
   ]
  },
  {
   "cell_type": "code",
   "execution_count": 1,
   "id": "8fa3d166",
   "metadata": {},
   "outputs": [],
   "source": [
    "from src.data_cleaning import read_first_n, clean_whitespace, normalize_to_ascii\n",
    "from src.utils import saver, loader\n",
    "\n",
    "from tqdm.notebook import tqdm\n",
    "from datasets import load_dataset"
   ]
  },
  {
   "cell_type": "code",
   "execution_count": null,
   "id": "65fd114b",
   "metadata": {},
   "outputs": [],
   "source": [
    "ds = load_dataset(\"abisee/cnn_dailymail\", \"3.0.0\")\n",
    "\n",
    "ds_train = ds['train']\n",
    "ds_test = ds['test']"
   ]
  },
  {
   "cell_type": "markdown",
   "id": "db9cfd84",
   "metadata": {},
   "source": [
    "## Train Data Cleaning"
   ]
  },
  {
   "cell_type": "code",
   "execution_count": 5,
   "id": "b7689a2a",
   "metadata": {},
   "outputs": [
    {
     "data": {
      "application/vnd.jupyter.widget-view+json": {
       "model_id": "fbf39422add64e80a21d377d6feb9899",
       "version_major": 2,
       "version_minor": 0
      },
      "text/plain": [
       "Processing entries:   0%|          | 0/287113 [00:00<?, ?it/s]"
      ]
     },
     "metadata": {},
     "output_type": "display_data"
    }
   ],
   "source": [
    "highlight_list = []\n",
    "article_list = []\n",
    "length = ds_train.num_rows\n",
    "\n",
    "for highlight, article in tqdm(zip(ds_train['highlights'], ds_train['article']), total=length, desc=\"Processing entries\"):\n",
    "    highlight = normalize_to_ascii(highlight).lower()\n",
    "    highlight = clean_whitespace(highlight)  # clean whitespace in highlight\n",
    "    highlight = highlight.replace(\" .\", \".\")\n",
    "    highlight_list.append(highlight)\n",
    "\n",
    "\n",
    "    article = normalize_to_ascii(article).lower()\n",
    "    article = clean_whitespace(article) # clean whitespace in article\n",
    "    article_list.append(article)\n",
    "\n",
    "saver(\"corpus/cnn_dailymail_highlight_train_cleaned.pkl\", highlight_list)\n",
    "saver(\"corpus/cnn_dailymail_article_train_cleaned.pkl\", article_list)"
   ]
  },
  {
   "cell_type": "markdown",
   "id": "d11b7d4a",
   "metadata": {},
   "source": [
    "## Test Data Cleaning"
   ]
  },
  {
   "cell_type": "code",
   "execution_count": 8,
   "id": "88a1af1c",
   "metadata": {},
   "outputs": [
    {
     "data": {
      "application/vnd.jupyter.widget-view+json": {
       "model_id": "87669e30f6674c968fda2e7509ca87b8",
       "version_major": 2,
       "version_minor": 0
      },
      "text/plain": [
       "Processing entries:   0%|          | 0/11490 [00:00<?, ?it/s]"
      ]
     },
     "metadata": {},
     "output_type": "display_data"
    }
   ],
   "source": [
    "highlight_list = []\n",
    "article_list = []\n",
    "length = ds_test.num_rows\n",
    "\n",
    "for highlight, article in tqdm(zip(ds_test['highlights'], ds_test['article']), total=length, desc=\"Processing entries\"):\n",
    "    highlight = normalize_to_ascii(highlight).lower()\n",
    "    highlight = clean_whitespace(highlight)  # clean whitespace in highlight\n",
    "    highlight = highlight.replace(\" .\", \".\")\n",
    "    highlight_list.append(highlight)\n",
    "\n",
    "\n",
    "    article = normalize_to_ascii(article).lower()\n",
    "    article = clean_whitespace(article) # clean whitespace in article\n",
    "    article_list.append(article)\n",
    "\n",
    "saver(\"corpus/cnn_dailymail_highlight_test_cleaned.pkl\", highlight_list)\n",
    "saver(\"corpus/cnn_dailymail_article_test_cleaned.pkl\", article_list)"
   ]
  },
  {
   "cell_type": "markdown",
   "id": "52a5f20b",
   "metadata": {},
   "source": [
    "## "
   ]
  }
 ],
 "metadata": {
  "kernelspec": {
   "display_name": "env_pytorch",
   "language": "python",
   "name": "python3"
  },
  "language_info": {
   "codemirror_mode": {
    "name": "ipython",
    "version": 3
   },
   "file_extension": ".py",
   "mimetype": "text/x-python",
   "name": "python",
   "nbconvert_exporter": "python",
   "pygments_lexer": "ipython3",
   "version": "3.12.2"
  }
 },
 "nbformat": 4,
 "nbformat_minor": 5
}

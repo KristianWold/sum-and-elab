{
 "cells": [
  {
   "cell_type": "markdown",
   "id": "04010a08",
   "metadata": {},
   "source": [
    "## LLM"
   ]
  },
  {
   "cell_type": "code",
   "execution_count": 1,
   "id": "8fa3d166",
   "metadata": {},
   "outputs": [
    {
     "name": "stdout",
     "output_type": "stream",
     "text": [
      "PyTorch version: 2.7.1+cu128\n",
      "CUDA toolkit version PyTorch was built with: 12.8\n",
      "cuDNN version: 90701\n",
      "cuda available: True\n"
     ]
    }
   ],
   "source": [
    "import torch as torch\n",
    "import numpy as np\n",
    "import pickle as pkl\n",
    "from tqdm.notebook import tqdm\n",
    "from transformer_kristianwold.transformer import Transformer\n",
    "from transformer_kristianwold.optimization import train_step, forward_and_loss, group_decay_parameters, save_checkpoint, load_checkpoint\n",
    "from transformer_kristianwold.utils import saver, loader\n",
    "from torch.utils.data import TensorDataset, DataLoader\n",
    "from IPython.display import clear_output\n",
    "import matplotlib.pyplot as plt\n",
    "\n",
    "print(\"PyTorch version:\", torch.__version__)  \n",
    "print(\"CUDA toolkit version PyTorch was built with:\", torch.version.cuda)  \n",
    "print(\"cuDNN version:\", torch.backends.cudnn.version()) \n",
    "print(\"cuda available:\", torch.cuda.is_available())\n",
    "\n",
    "device = torch.device(\"cpu\")\n",
    "torch.set_float32_matmul_precision('high')"
   ]
  },
  {
   "cell_type": "markdown",
   "id": "6fb06f6e",
   "metadata": {},
   "source": [
    "## Load Data"
   ]
  },
  {
   "cell_type": "code",
   "execution_count": 2,
   "id": "2e6c5044",
   "metadata": {},
   "outputs": [],
   "source": [
    "tokenizer = loader(\"../tokenizers/cnn_tokenizer3.pkl\")"
   ]
  },
  {
   "cell_type": "code",
   "execution_count": 3,
   "id": "ba5b3295",
   "metadata": {},
   "outputs": [],
   "source": [
    "\n",
    "corpus_test1 = loader(\"../corpus/cnn_dailymail_highlight_first_test.pkl\")\n",
    "corpus_test2 = loader(\"../corpus/cnn_dailymail_highlight_last_test.pkl\")\n",
    "corpus_test = torch.cat((corpus_test1, corpus_test2), dim=0)\n",
    "\n",
    "def batch_data(corpus, batch_length=1024):\n",
    "    \"\"\"\n",
    "    Splits the corpus into batches of size batch_size.\n",
    "    \"\"\"\n",
    "    length = len(corpus)\n",
    "    batches = length // batch_length\n",
    "    corpus_truncated = corpus[:batches * batch_length]  # trim to a multiple of batch_length\n",
    "    corpus_batched = corpus_truncated.view(-1, batch_length)  # reshape into batches\n",
    "\n",
    "    return corpus_batched\n",
    "\n",
    "corpus_test_batched = batch_data(corpus_test, batch_length=1024)"
   ]
  },
  {
   "cell_type": "code",
   "execution_count": 10,
   "id": "a0773db3",
   "metadata": {},
   "outputs": [
    {
     "name": "stdout",
     "output_type": "stream",
     "text": [
      " racial issues\" in his department. ferguson's ugly, racist emails released . the recommendations in the report, ranging from new training and supervision of police officers, addressing racially discriminatory conduct to structural revisions in the court system, will, if implemented, remake the law enforcement system in the town. (a grand jury that investigated the shooting of brown by officer darren wilson chose not to file charges against him and the justice department also didn't find reason to prosecute.) without question, change is coming to the town's government. town manager john shaw, ferguson's most powerful official and, until the doj's blistering report, the one who inexplicably managed to elude public scrutiny, resigned weeks ago and has been replaced by the city's deputy manager. three sitting city council members chose not to run for office again and, on tuesday, citizens elected two black candidates to the city council, changing its racial composition: five of six members and the mayor were white. now the council will be 50% black. ferguson's hapless police chief thomas jackson also finally resigned after holding on through a months-long display of astonishing incompetence. the department first drew the attention of the nation for its display of military weaponry and tear gas in response to civilian protests. the appointment of a commander from the state highway patrol was deemed necessary to begin quelling the unrest and to build community trust in the early days of the protest. jackson's departure sent an important signal to the population of a town preyed upon by officers under his command. and so we can be certain that along with the new makeup of the city council, there will be a new police chief in ferguson. but does that mean that fundamental change will come to ferguson? not necessarily. not unless protest and activism during this critical period turns to influence the vitally important opportunities that lie ahead in the coming weeks. the department of justice's full-on negotiations with the leadership in ferguson will determine the shape of the new ferguson police department. indeed, the doj report alludes to the possibility of disbanding the department in favor of a regional policing integration with st. louis county. many local activists have suggested just such a solution, but given ongoing problems with policing in the county -- including the role of county forces in some of the most controversial clashes with activists in ferguson last fall -- community representatives will have to fight hard to ensure that the doj can fold st. louis county police into its monitoring and reform process. equally important were the april 7 general elections. turnout in municipal elections has been notoriously low in ferguson, with white voters nearly three times more likely to turn out than african-americans. but local groups had engaged in vigorous voter registration and get-out-the-vote campaigns.. the mayor has two years left to his term and has defiantly insisted that he will not resign (although a petition for his recall has been circulating). that means that he will be a lead voice in negotiating with the doj to remake the police department. has he committed to a clear set of principles that will guide his participation in those talks? community activists and residents must ensure that mayor james knowles plans to represent their vision of new ferguson police department. but there is an opportunity to begin thinking about even more ambitious structural change in ferguson and throughout st. louis county. ferguson's governing structure, with a strong city manager and a weak council and mayor, mirrors that of thousands of other suburbs in the united states. that form of governance might have been precisely what thriving, middle class white suburbanites wanted when they fled racial integration in cities like st. louis. but working class suburbs like ferguson with a majority black population in which the needs of the population in the areas of education and economic opportunity more closely hews to the needs of urban residents, may need a more robust form of governance. in any case, a system in which the elected officials have minimal power, but non-elected leaders, like the town manager and the chief of police, have inordinate power, is a recipe for the kind of unaccountable, non-representative government that controlled ferguson's residents. yet this precise form of government is in wide use across the country. likewise, missouri, like the vast majority of states, holds municipal elections in non-presidential election years, guaranteeing a significantly lower voter turnout -- although only a few states hold the primary and general election in march and april as missouri law requires ferguson to do. it's not that ferguson is so different than towns across america. it's precisely because ferguson holds up a mirror to flaws in our democratic system of government in towns across this country that the stakes are so high. ferguson residents now have the opportunity to begin a movement for change in the other 89 jurisdictions in st. louis county plagued by similar governance flaws, including those towns led by african-americans. and ferguson's example should provoke self-examination in working class suburbs across the country, where the power and effectiveness of weak elected local government is inadequate to meet the needs of the population. change is\n"
     ]
    }
   ],
   "source": [
    "print(tokenizer.decode(np.array(corpus_test_batched[103])))"
   ]
  }
 ],
 "metadata": {
  "kernelspec": {
   "display_name": "env_transformer",
   "language": "python",
   "name": "python3"
  },
  "language_info": {
   "codemirror_mode": {
    "name": "ipython",
    "version": 3
   },
   "file_extension": ".py",
   "mimetype": "text/x-python",
   "name": "python",
   "nbconvert_exporter": "python",
   "pygments_lexer": "ipython3",
   "version": "3.12.2"
  }
 },
 "nbformat": 4,
 "nbformat_minor": 5
}

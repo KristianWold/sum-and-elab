{
 "cells": [
  {
   "cell_type": "markdown",
   "id": "04010a08",
   "metadata": {},
   "source": [
    "## LLM"
   ]
  },
  {
   "cell_type": "code",
   "execution_count": 1,
   "id": "8fa3d166",
   "metadata": {},
   "outputs": [
    {
     "name": "stdout",
     "output_type": "stream",
     "text": [
      "PyTorch version: 2.7.1+cu128\n",
      "CUDA toolkit version PyTorch was built with: 12.8\n",
      "cuDNN version: 90701\n",
      "cuda available: True\n"
     ]
    }
   ],
   "source": [
    "import torch as torch\n",
    "import numpy as np\n",
    "import pickle as pkl\n",
    "from tqdm.notebook import tqdm\n",
    "from transformer_kristianwold.transformer import Transformer, Inference\n",
    "from transformer_kristianwold.optimization import train_step, forward_and_loss, group_decay_parameters, save_checkpoint, load_checkpoint\n",
    "from transformer_kristianwold.utils import saver, loader\n",
    "from torch.utils.data import TensorDataset, DataLoader\n",
    "from IPython.display import clear_output\n",
    "import matplotlib.pyplot as plt\n",
    "from transformer_kristianwold.analysis import EmbeddingClustering\n",
    "\n",
    "print(\"PyTorch version:\", torch.__version__)  \n",
    "print(\"CUDA toolkit version PyTorch was built with:\", torch.version.cuda)  \n",
    "print(\"cuDNN version:\", torch.backends.cudnn.version()) \n",
    "print(\"cuda available:\", torch.cuda.is_available())\n",
    "\n",
    "device = torch.device(\"cpu\")\n",
    "torch.set_float32_matmul_precision('high')"
   ]
  },
  {
   "cell_type": "markdown",
   "id": "6fb06f6e",
   "metadata": {},
   "source": [
    "## Load"
   ]
  },
  {
   "cell_type": "code",
   "execution_count": 2,
   "id": "f9b5a271",
   "metadata": {},
   "outputs": [],
   "source": [
    "tokenizer = loader(\"../../tokenizers/cnn_tokenizer3.pkl\")\n",
    "model = None\n",
    "def load_model(filename=None):\n",
    "    embed_dim = 64*18\n",
    "    ff_dim = 4*embed_dim\n",
    "    heads = 18\n",
    "    tf_blocks = 18\n",
    "\n",
    "    model = Transformer(\n",
    "        embed_dim=embed_dim,\n",
    "        ff_dim=ff_dim,\n",
    "        heads=heads,\n",
    "        tf_blocks=tf_blocks,\n",
    "        vocab_size=tokenizer.vocab_size,\n",
    "        max_seq_len=1024,\n",
    "        dropout=0.1,\n",
    "        start_token_id=tokenizer.token_to_idx[\"<s>\"],\n",
    "        use_weight_tying=True\n",
    "    ).to(device)\n",
    "\n",
    "    optimizer_grouped_parameters = group_decay_parameters(\n",
    "        model,\n",
    "        weight_decay=0.1,\n",
    "        no_decay=[\"bias\", \"LayerNorm.weight\"],\n",
    "        )\n",
    "\n",
    "    criterion = torch.nn.CrossEntropyLoss()\n",
    "    optimizer = torch.optim.AdamW(optimizer_grouped_parameters, lr=5e-5)\n",
    "    scaler = torch.amp.GradScaler(\"cuda\")\n",
    "    loss_train_list = []\n",
    "    loss_test_list = []\n",
    "\n",
    "    num_epochs      = 1\n",
    "    steps_per_epoch = 1\n",
    "    warmup_steps    = 1000\n",
    "\n",
    "    def lr_lambda(step):\n",
    "        if step < warmup_steps:\n",
    "            return float(step) / float(max(1, warmup_steps))\n",
    "        return 1.0\n",
    "\n",
    "    scheduler = torch.optim.lr_scheduler.LambdaLR(optimizer, lr_lambda)\n",
    "    if filename is not None:\n",
    "        [model, \n",
    "        _, \n",
    "        _, \n",
    "        loss_train_list, \n",
    "        loss_test_list] = load_checkpoint(filename, \n",
    "                                        model, \n",
    "                                        optimizer, \n",
    "                                        scheduler, \n",
    "                                        loss_train_list, \n",
    "                                        loss_test_list)\n",
    "\n",
    "    return model, loss_train_list, loss_test_list"
   ]
  },
  {
   "cell_type": "markdown",
   "id": "6ca7d41a",
   "metadata": {},
   "source": [
    "## One Epoch"
   ]
  },
  {
   "cell_type": "code",
   "execution_count": 3,
   "id": "2f2ab524",
   "metadata": {},
   "outputs": [],
   "source": [
    "del model\n",
    "model, loss_train_list, loss_test_list = load_model(\"../../models/checkpoint_transformer_no_regularization_1epoch.pth\")"
   ]
  },
  {
   "cell_type": "code",
   "execution_count": 4,
   "id": "1e36d1dd",
   "metadata": {},
   "outputs": [
    {
     "name": "stdout",
     "output_type": "stream",
     "text": [
      "45.09713277220726 48.00949828247229 21.1648663474281\n"
     ]
    }
   ],
   "source": [
    "embed_clust = EmbeddingClustering(tokenizer, n_clusters = 300)\n",
    "\n",
    "sim_rank, inertia_rank, inertia_list = embed_clust.fit(model.get_word_embed())\n",
    "print(np.median(inertia_list), np.mean(inertia_list), np.std(inertia_list))"
   ]
  },
  {
   "cell_type": "code",
   "execution_count": 5,
   "id": "3281cc99",
   "metadata": {},
   "outputs": [
    {
     "name": "stdout",
     "output_type": "stream",
     "text": [
      "    stopp\n",
      "    spi\n",
      "    convers\n",
      "    consid\n",
      "    schweinste\n",
      "    mosqu\n",
      "    vett\n",
      "    contam\n",
      "    venez\n",
      "    magistr\n",
      "----\n",
      "   something\n",
      "   somet\n",
      "   whe\n",
      "   odd\n",
      "   wh\n",
      "   too\n",
      "   and\n",
      "   nothing\n",
      "   dig\n",
      "   eight\n",
      "----\n",
      "   600\n",
      "   900\n",
      "   700\n",
      "   400\n",
      "   300\n",
      "   450\n",
      "   750\n",
      "   800\n",
      "   250\n",
      "   350\n",
      "----\n",
      "    4pm\n",
      "    10am\n",
      "    2pm\n",
      "    1pm\n",
      "    11am\n",
      "    7pm\n",
      "    5pm\n",
      "    6am\n",
      "    7am\n",
      "    11pm\n",
      "----\n",
      "   ic'\n",
      "   ing'\n",
      "   al'\n",
      "   y'\n",
      "   ies'\n",
      "   ation'\n",
      "   ie'\n",
      "   ous'\n",
      "   o'\n",
      "   er'\n",
      "----\n",
      "    her'\n",
      "    him'\n",
      "    life'\n",
      "    me'\n",
      "    money'\n",
      "    people'\n",
      "    you'\n",
      "    family'\n",
      "    up'\n",
      "    man'\n",
      "----\n",
      "    wawrinka\n",
      "    berdych\n",
      "    sharapova\n",
      "    bouchard\n",
      "    dimitrov\n",
      "    azarenka\n",
      "    wozniacki\n",
      "    serena\n",
      "    raonic\n",
      "    djokovic\n",
      "----\n",
      "    july\n",
      "    august\n",
      "    october\n",
      "    february\n",
      "    december\n",
      "    november\n",
      "    september\n",
      "    january\n",
      "    june\n",
      "    april\n",
      "----\n",
      "    we'll\n",
      "    it'll\n",
      "    we're\n",
      "    we'd\n",
      "    i'll\n",
      "    you'd\n",
      "    they'll\n",
      "    they're\n",
      "    you've\n",
      "    there's\n",
      "----\n",
      "   26\n",
      "   48\n",
      "   33\n",
      "   54\n",
      "   46\n",
      "   28\n",
      "   55\n",
      "   41\n",
      "   36\n",
      "   31\n",
      "----\n"
     ]
    }
   ],
   "source": [
    "for idx in inertia_rank[:10]:\n",
    "    for i in range(10):\n",
    "        word_idx = sim_rank[idx][i]\n",
    "        print(f\"   {tokenizer.idx_to_token[word_idx]}\")\n",
    "\n",
    "    print(\"----\")"
   ]
  },
  {
   "cell_type": "code",
   "execution_count": 6,
   "id": "840d8a23",
   "metadata": {},
   "outputs": [
    {
     "data": {
      "image/png": "[encoded data removed]",
      "text/plain": [
       "<Figure size 640x480 with 1 Axes>"
      ]
     },
     "metadata": {},
     "output_type": "display_data"
    }
   ],
   "source": [
    "plt.hist(inertia_list, bins=np.linspace(0, 200, 50))\n",
    "plt.show()"
   ]
  },
  {
   "cell_type": "markdown",
   "id": "fa679345",
   "metadata": {},
   "source": [
    "## Three Epochs"
   ]
  },
  {
   "cell_type": "code",
   "execution_count": 7,
   "id": "7ac6769b",
   "metadata": {},
   "outputs": [],
   "source": [
    "del model\n",
    "model, loss_train_list, loss_test_list = load_model(\"../../models/checkpoint_transformer_no_regularization_3epoch.pth\")"
   ]
  },
  {
   "cell_type": "code",
   "execution_count": 8,
   "id": "241d769e",
   "metadata": {},
   "outputs": [
    {
     "name": "stdout",
     "output_type": "stream",
     "text": [
      "51.48800206184387 54.95743583649397 21.872867365748764\n"
     ]
    }
   ],
   "source": [
    "embed_clust = EmbeddingClustering(tokenizer, n_clusters = 300)\n",
    "\n",
    "sim_rank, inertia_rank, inertia_list = embed_clust.fit(model.get_word_embed())\n",
    "print(np.median(inertia_list), np.mean(inertia_list), np.std(inertia_list))"
   ]
  },
  {
   "cell_type": "code",
   "execution_count": 9,
   "id": "91abc355",
   "metadata": {},
   "outputs": [
    {
     "name": "stdout",
     "output_type": "stream",
     "text": [
      "   600\n",
      "   900\n",
      "   400\n",
      "   450\n",
      "   350\n",
      "   700\n",
      "   750\n",
      "   250\n",
      "   300\n",
      "   800\n",
      "----\n",
      "    12th\n",
      "    10th\n",
      "    15th\n",
      "    13th\n",
      "    22nd\n",
      "    24th\n",
      "    23rd\n",
      "    14th\n",
      "    16th\n",
      "    17th\n",
      "----\n",
      "    weekend's\n",
      "    saturday's\n",
      "    sunday's\n",
      "    sundays\n",
      "    thursday's\n",
      "    friday's\n",
      "    week's\n",
      "    saturdays\n",
      "    tuesday's\n",
      "    wednesday's\n",
      "----\n",
      "    70s\n",
      "    eighties\n",
      "    1940s\n",
      "    sixties\n",
      "    1930s\n",
      "    1960s\n",
      "    1950s\n",
      "    1980s\n",
      "    60s\n",
      "    90s\n",
      "----\n",
      "    i\n",
      "    ive\n",
      "    im\n",
      "    my\n",
      "    we\n",
      "    i'm\n",
      "    i've\n",
      "    i'd\n",
      "    you\n",
      "    id\n",
      "----\n",
      "    monday\n",
      "    friday\n",
      "    tuesday\n",
      "    saturday\n",
      "    thursday\n",
      "    wednesday\n",
      "    sunday\n",
      "    afternoon\n",
      "    weekend\n",
      "    evening\n",
      "----\n",
      "    highlighting\n",
      "    showcasing\n",
      "    depicting\n",
      "    displaying\n",
      "    documenting\n",
      "    exposing\n",
      "    indicating\n",
      "    comparing\n",
      "    suggesting\n",
      "    featuring\n",
      "----\n",
      "    insects\n",
      "    ants\n",
      "    spiders\n",
      "    insect\n",
      "    bugs\n",
      "    squirrel\n",
      "    rats\n",
      "    bees\n",
      "    rept\n",
      "    rabbits\n",
      "----\n",
      "    teenagers\n",
      "    youngsters\n",
      "    youths\n",
      "    toddlers\n",
      "    kids\n",
      "    adults\n",
      "    schoolchildren\n",
      "    infants\n",
      "    girls\n",
      "    babies\n",
      "----\n",
      "    kennedy's\n",
      "    martin's\n",
      "    jackson's\n",
      "    johnson's\n",
      "    michael's\n",
      "    zimmerman's\n",
      "    william's\n",
      "    anthony's\n",
      "    brown's\n",
      "    wilson's\n",
      "----\n"
     ]
    }
   ],
   "source": [
    "for idx in inertia_rank[:10]:\n",
    "    for i in range(10):\n",
    "        word_idx = sim_rank[idx][i]\n",
    "        print(f\"   {tokenizer.idx_to_token[word_idx]}\")\n",
    "\n",
    "    print(\"----\")"
   ]
  },
  {
   "cell_type": "code",
   "execution_count": 10,
   "id": "2b151dd0",
   "metadata": {},
   "outputs": [
    {
     "data": {
      "image/png": "[encoded data removed]",
      "text/plain": [
       "<Figure size 640x480 with 1 Axes>"
      ]
     },
     "metadata": {},
     "output_type": "display_data"
    }
   ],
   "source": [
    "plt.hist(inertia_list, bins=np.linspace(0, 200, 50))\n",
    "plt.show()"
   ]
  },
  {
   "cell_type": "markdown",
   "id": "ed925aca",
   "metadata": {},
   "source": [
    "## Five Epochs"
   ]
  },
  {
   "cell_type": "code",
   "execution_count": 27,
   "id": "40d23e32",
   "metadata": {},
   "outputs": [],
   "source": [
    "del model\n",
    "model, loss_train_list, loss_test_list = load_model(\"../../models/checkpoint_transformer_5epoch.pth\")"
   ]
  },
  {
   "cell_type": "code",
   "execution_count": 28,
   "id": "fe7d1968",
   "metadata": {},
   "outputs": [
    {
     "name": "stdout",
     "output_type": "stream",
     "text": [
      "55.00549724698067 59.44539458329479 27.803744784987757\n"
     ]
    }
   ],
   "source": [
    "embed_clust = EmbeddingClustering(tokenizer, n_clusters = 300)\n",
    "\n",
    "sim_rank, inertia_rank, inertia_list = embed_clust.fit(model.get_word_embed())\n",
    "print(np.median(inertia_list), np.mean(inertia_list), np.std(inertia_list))"
   ]
  },
  {
   "cell_type": "code",
   "execution_count": 29,
   "id": "9ca1bedd",
   "metadata": {},
   "outputs": [
    {
     "name": "stdout",
     "output_type": "stream",
     "text": [
      "    10million\n",
      "    20million\n",
      "    3million\n",
      "    5million\n",
      "    4million\n",
      "    30million\n",
      "    2million\n",
      "    1million\n",
      "    1billion\n",
      "    10m\n",
      "----\n",
      "    protests\n",
      "    demonstrations\n",
      "    demonstrators\n",
      "    protesters\n",
      "    protestors\n",
      "    protester\n",
      "    rallies\n",
      "    protest\n",
      "    clashes\n",
      "    riots\n",
      "----\n",
      "    adelaide\n",
      "    melbourne\n",
      "    brisbane\n",
      "    sydney\n",
      "    queensland\n",
      "    canberra\n",
      "    perth\n",
      "    tasman\n",
      "    nsw\n",
      "    sydney's\n",
      "----\n",
      "    70s\n",
      "    eighties\n",
      "    90s\n",
      "    80s\n",
      "    60s\n",
      "    1980s\n",
      "    1950s\n",
      "    sixties\n",
      "    1960s\n",
      "    1990s\n",
      "----\n",
      "    22\n",
      "    14\n",
      "    13\n",
      "    15\n",
      "    23\n",
      "    26\n",
      "    17\n",
      "    12\n",
      "    25\n",
      "    16\n",
      "----\n",
      "    2009\n",
      "    2010\n",
      "    2007\n",
      "    2008\n",
      "    2011\n",
      "    2004\n",
      "    2006\n",
      "    2005\n",
      "    2012\n",
      "    november\n",
      "----\n",
      "   74\n",
      "   73\n",
      "   84\n",
      "   82\n",
      "   71\n",
      "   69\n",
      "   79\n",
      "   61\n",
      "   76\n",
      "   83\n",
      "----\n",
      "    10am\n",
      "    4pm\n",
      "    11am\n",
      "    5pm\n",
      "    1am\n",
      "    9am\n",
      "    1pm\n",
      "    2pm\n",
      "    6pm\n",
      "    7am\n",
      "----\n",
      "    12th\n",
      "    10th\n",
      "    15th\n",
      "    23rd\n",
      "    13th\n",
      "    22nd\n",
      "    14th\n",
      "    24th\n",
      "    16th\n",
      "    17th\n",
      "----\n",
      "    shouting\n",
      "    yelling\n",
      "    chanting\n",
      "    screaming\n",
      "    sobbing\n",
      "    waving\n",
      "    crying\n",
      "    chants\n",
      "    cheering\n",
      "    singing\n",
      "----\n"
     ]
    }
   ],
   "source": [
    "for idx in inertia_rank[:10]:\n",
    "    for i in range(10):\n",
    "        word_idx = sim_rank[idx][i]\n",
    "        print(f\"   {tokenizer.idx_to_token[word_idx]}\")\n",
    "\n",
    "    print(\"----\")"
   ]
  },
  {
   "cell_type": "code",
   "execution_count": 30,
   "id": "a58eb049",
   "metadata": {},
   "outputs": [
    {
     "data": {
      "image/png": "[encoded data removed]",
      "text/plain": [
       "<Figure size 640x480 with 1 Axes>"
      ]
     },
     "metadata": {},
     "output_type": "display_data"
    }
   ],
   "source": [
    "plt.hist(inertia_list, bins=np.linspace(0, 200, 50))\n",
    "plt.show()"
   ]
  }
 ],
 "metadata": {
  "kernelspec": {
   "display_name": "env_transformer",
   "language": "python",
   "name": "python3"
  },
  "language_info": {
   "codemirror_mode": {
    "name": "ipython",
    "version": 3
   },
   "file_extension": ".py",
   "mimetype": "text/x-python",
   "name": "python",
   "nbconvert_exporter": "python",
   "pygments_lexer": "ipython3",
   "version": "3.12.2"
  }
 },
 "nbformat": 4,
 "nbformat_minor": 5
}

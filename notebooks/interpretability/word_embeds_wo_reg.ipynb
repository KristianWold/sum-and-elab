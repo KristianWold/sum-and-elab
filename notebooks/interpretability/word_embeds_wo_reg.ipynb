{
 "cells": [
  {
   "cell_type": "markdown",
   "id": "04010a08",
   "metadata": {},
   "source": [
    "## LLM"
   ]
  },
  {
   "cell_type": "code",
   "execution_count": 1,
   "id": "8fa3d166",
   "metadata": {},
   "outputs": [
    {
     "name": "stdout",
     "output_type": "stream",
     "text": [
      "PyTorch version: 2.7.1+cu128\n",
      "CUDA toolkit version PyTorch was built with: 12.8\n",
      "cuDNN version: 90701\n",
      "cuda available: True\n"
     ]
    }
   ],
   "source": [
    "import torch as torch\n",
    "import numpy as np\n",
    "import pickle as pkl\n",
    "from tqdm.notebook import tqdm\n",
    "from transformer_kristianwold.transformer import Transformer, Inference\n",
    "from transformer_kristianwold.optimization import train_step, forward_and_loss, group_decay_parameters, save_checkpoint, load_checkpoint\n",
    "from transformer_kristianwold.utils import saver, loader\n",
    "from torch.utils.data import TensorDataset, DataLoader\n",
    "from IPython.display import clear_output\n",
    "import matplotlib.pyplot as plt\n",
    "from transformer_kristianwold.analysis import EmbeddingClustering\n",
    "\n",
    "print(\"PyTorch version:\", torch.__version__)  \n",
    "print(\"CUDA toolkit version PyTorch was built with:\", torch.version.cuda)  \n",
    "print(\"cuDNN version:\", torch.backends.cudnn.version()) \n",
    "print(\"cuda available:\", torch.cuda.is_available())\n",
    "\n",
    "device = torch.device(\"cpu\")\n",
    "torch.set_float32_matmul_precision('high')"
   ]
  },
  {
   "cell_type": "markdown",
   "id": "6fb06f6e",
   "metadata": {},
   "source": [
    "## Load"
   ]
  },
  {
   "cell_type": "code",
   "execution_count": 2,
   "id": "f9b5a271",
   "metadata": {},
   "outputs": [],
   "source": [
    "tokenizer = loader(\"../tokenizers/cnn_tokenizer3.pkl\")\n",
    "model = None\n",
    "def load_model(filename=None):\n",
    "    embed_dim = 64*18\n",
    "    ff_dim = 4*embed_dim\n",
    "    heads = 18\n",
    "    tf_blocks = 18\n",
    "\n",
    "    model = Transformer(\n",
    "        embed_dim=embed_dim,\n",
    "        ff_dim=ff_dim,\n",
    "        heads=heads,\n",
    "        tf_blocks=tf_blocks,\n",
    "        vocab_size=tokenizer.vocab_size,\n",
    "        max_seq_len=1024,\n",
    "        dropout=0.1,\n",
    "        start_token_id=tokenizer.token_to_idx[\"<s>\"],\n",
    "        use_weight_tying=True\n",
    "    ).to(device)\n",
    "\n",
    "    optimizer_grouped_parameters = group_decay_parameters(\n",
    "        model,\n",
    "        weight_decay=0.1,\n",
    "        no_decay=[\"bias\", \"LayerNorm.weight\"],\n",
    "        )\n",
    "\n",
    "    criterion = torch.nn.CrossEntropyLoss()\n",
    "    optimizer = torch.optim.AdamW(optimizer_grouped_parameters, lr=5e-5)\n",
    "    scaler = torch.amp.GradScaler(\"cuda\")\n",
    "    loss_train_list = []\n",
    "    loss_test_list = []\n",
    "\n",
    "    num_epochs      = 1\n",
    "    steps_per_epoch = 1\n",
    "    warmup_steps    = 1000\n",
    "\n",
    "    def lr_lambda(step):\n",
    "        if step < warmup_steps:\n",
    "            return float(step) / float(max(1, warmup_steps))\n",
    "        return 1.0\n",
    "\n",
    "    scheduler = torch.optim.lr_scheduler.LambdaLR(optimizer, lr_lambda)\n",
    "    if filename is not None:\n",
    "        [model, \n",
    "        _, \n",
    "        _, \n",
    "        loss_train_list, \n",
    "        loss_test_list] = load_checkpoint(filename, \n",
    "                                        model, \n",
    "                                        optimizer, \n",
    "                                        scheduler, \n",
    "                                        loss_train_list, \n",
    "                                        loss_test_list)\n",
    "\n",
    "    return model, loss_train_list, loss_test_list"
   ]
  },
  {
   "cell_type": "markdown",
   "id": "c361d45a",
   "metadata": {},
   "source": [
    "## Zero Epoch"
   ]
  },
  {
   "cell_type": "code",
   "execution_count": null,
   "id": "da046d69",
   "metadata": {},
   "outputs": [],
   "source": [
    "embed_clust = EmbeddingClustering(tokenizer, n_clusters = 300)\n",
    "\n",
    "sim_rank, inertia_rank, inertia_list = embed_clust.fit(model.get_word_embed())"
   ]
  },
  {
   "cell_type": "code",
   "execution_count": null,
   "id": "59a47b85",
   "metadata": {},
   "outputs": [],
   "source": [
    "for idx in inertia_rank[:10]:\n",
    "    for i in range(10):\n",
    "        word_idx = sim_rank[idx][i]\n",
    "        print(f\"   {tokenizer.idx_to_token[word_idx]}\")\n",
    "\n",
    "    print(\"----\")"
   ]
  },
  {
   "cell_type": "code",
   "execution_count": null,
   "id": "8ea609c5",
   "metadata": {},
   "outputs": [],
   "source": [
    "plt.hist(inertia_list, bins=np.linspace(0, 200, 50))\n",
    "plt.show()"
   ]
  },
  {
   "cell_type": "markdown",
   "id": "6ca7d41a",
   "metadata": {},
   "source": [
    "## One Epoch"
   ]
  },
  {
   "cell_type": "code",
   "execution_count": 9,
   "id": "2f2ab524",
   "metadata": {},
   "outputs": [],
   "source": [
    "del model\n",
    "model, loss_train_list, loss_test_list = load_model(\"../models/checkpoint_transformer_1epoch.pth\")"
   ]
  },
  {
   "cell_type": "code",
   "execution_count": 10,
   "id": "1e36d1dd",
   "metadata": {},
   "outputs": [],
   "source": [
    "embed_clust = EmbeddingClustering(tokenizer, n_clusters = 300)\n",
    "\n",
    "sim_rank, inertia_rank, inertia_list = embed_clust.fit(model.get_word_embed())"
   ]
  },
  {
   "cell_type": "code",
   "execution_count": null,
   "id": "3281cc99",
   "metadata": {},
   "outputs": [
    {
     "name": "stdout",
     "output_type": "stream",
     "text": [
      "   600\n",
      "   900\n",
      "   400\n",
      "   700\n",
      "   300\n",
      "   750\n",
      "   450\n",
      "   350\n",
      "   800\n",
      "   250\n",
      "----\n",
      "    4pm\n",
      "    10am\n",
      "    5pm\n",
      "    2pm\n",
      "    1pm\n",
      "    7pm\n",
      "    11pm\n",
      "    11am\n",
      "    7am\n",
      "    5am\n",
      "----\n",
      "    90s\n",
      "    70s\n",
      "    80s\n",
      "    eighties\n",
      "    60s\n",
      "    1960s\n",
      "    1950s\n",
      "    1970s\n",
      "    1940s\n",
      "    1980s\n",
      "----\n",
      "    perth\n",
      "    brisbane\n",
      "    adelaide\n",
      "    canberra\n",
      "    melbourne\n",
      "    queensland\n",
      "    christchurch\n",
      "    sydney's\n",
      "    jakarta\n",
      "    bondi\n",
      "----\n",
      "    mexico\n",
      "    puerto\n",
      "    arizona\n",
      "    mexican\n",
      "    florida\n",
      "    nevada\n",
      "    texas\n",
      "    cuba\n",
      "    chicago\n",
      "    california\n",
      "----\n",
      "    chelsea\n",
      "    liverpool\n",
      "    premier\n",
      "    arsenal\n",
      "    everton\n",
      "    manchester\n",
      "    tottenham\n",
      "    newcastle\n",
      "    qpr\n",
      "    bundesliga\n",
      "----\n",
      "    tennessee\n",
      "    wisconsin\n",
      "    arkansas\n",
      "    maryland\n",
      "    illinois\n",
      "    maine\n",
      "    minnesota\n",
      "    wyoming\n",
      "    michigan\n",
      "    pennsylvania\n",
      "----\n",
      "   26\n",
      "   33\n",
      "   54\n",
      "   27\n",
      "   28\n",
      "   29\n",
      "   48\n",
      "   46\n",
      "   55\n",
      "   41\n",
      "----\n",
      "    l\n",
      "    g\n",
      "    s\n",
      "    n\n",
      "    b\n",
      "    c\n",
      "    r\n",
      "    t\n",
      "    m\n",
      "    f\n",
      "----\n",
      "    15th\n",
      "    12th\n",
      "    13th\n",
      "    10th\n",
      "    14th\n",
      "    16th\n",
      "    22nd\n",
      "    23rd\n",
      "    25th\n",
      "    17th\n",
      "----\n"
     ]
    }
   ],
   "source": [
    "for idx in inertia_rank[:10]:\n",
    "    for i in range(10):\n",
    "        word_idx = sim_rank[idx][i]\n",
    "        print(f\"   {tokenizer.idx_to_token[word_idx]}\")\n",
    "\n",
    "    print(\"----\")"
   ]
  },
  {
   "cell_type": "code",
   "execution_count": 40,
   "id": "840d8a23",
   "metadata": {},
   "outputs": [
    {
     "data": {
      "image/png": "[encoded data removed]",
      "text/plain": [
       "<Figure size 640x480 with 1 Axes>"
      ]
     },
     "metadata": {},
     "output_type": "display_data"
    }
   ],
   "source": [
    "plt.hist(inertia_list, bins=np.linspace(0, 200, 50))\n",
    "plt.show()"
   ]
  },
  {
   "cell_type": "markdown",
   "id": "fa679345",
   "metadata": {},
   "source": [
    "## Three Epochs"
   ]
  },
  {
   "cell_type": "code",
   "execution_count": 18,
   "id": "7ac6769b",
   "metadata": {},
   "outputs": [],
   "source": [
    "del model\n",
    "model, loss_train_list, loss_test_list = load_model(\"../models/checkpoint_transformer_3epoch.pth\")"
   ]
  },
  {
   "cell_type": "code",
   "execution_count": 16,
   "id": "241d769e",
   "metadata": {},
   "outputs": [
    {
     "name": "stdout",
     "output_type": "stream",
     "text": [
      "50.36466225981712 55.76786392256618 25.317170833056537\n"
     ]
    }
   ],
   "source": [
    "embed_clust = EmbeddingClustering(tokenizer, n_clusters = 300)\n",
    "\n",
    "sim_rank, inertia_rank, inertia_list = embed_clust.fit(model.get_word_embed())\n",
    "print(np.median(inertia_list), np.mean(inertia_list), np.std(inertia_list))"
   ]
  },
  {
   "cell_type": "code",
   "execution_count": 43,
   "id": "91abc355",
   "metadata": {},
   "outputs": [
    {
     "name": "stdout",
     "output_type": "stream",
     "text": [
      "    didnt\n",
      "    wasnt\n",
      "    wouldnt\n",
      "    hasnt\n",
      "    havent\n",
      "    couldnt\n",
      "    wont\n",
      "    hadnt\n",
      "    werent\n",
      "    arent\n",
      "----\n",
      "    1995\n",
      "    2002\n",
      "    2006\n",
      "    2004\n",
      "    1996\n",
      "    2005\n",
      "    1999\n",
      "    1998\n",
      "    2007\n",
      "    1997\n",
      "----\n",
      "    10am\n",
      "    4pm\n",
      "    11am\n",
      "    5pm\n",
      "    1pm\n",
      "    9am\n",
      "    2pm\n",
      "    7pm\n",
      "    7am\n",
      "    8am\n",
      "----\n",
      "    70s\n",
      "    eighties\n",
      "    90s\n",
      "    60s\n",
      "    sixties\n",
      "    80s\n",
      "    1940s\n",
      "    1960s\n",
      "    1980s\n",
      "    1950s\n",
      "----\n",
      "    promises\n",
      "    pledges\n",
      "    demands\n",
      "    plans\n",
      "    fears\n",
      "    vows\n",
      "    proposals\n",
      "    worries\n",
      "    requests\n",
      "    claims\n",
      "----\n",
      "    12th\n",
      "    15th\n",
      "    10th\n",
      "    13th\n",
      "    23rd\n",
      "    22nd\n",
      "    24th\n",
      "    14th\n",
      "    16th\n",
      "    17th\n",
      "----\n",
      "    we'll\n",
      "    they'll\n",
      "    they're\n",
      "    you'll\n",
      "    it'll\n",
      "    we're\n",
      "    i'll\n",
      "    they've\n",
      "    you'd\n",
      "    there's\n",
      "----\n",
      "    startling\n",
      "    shocking\n",
      "    disturbing\n",
      "    damning\n",
      "    astonishing\n",
      "    horrifying\n",
      "    alarming\n",
      "    troubling\n",
      "    frightening\n",
      "    dramatic\n",
      "----\n",
      "    fda\n",
      "    medicaid\n",
      "    cdc\n",
      "    dea\n",
      "    pharmaceutical\n",
      "    ambul\n",
      "    medicare\n",
      "    obamacare\n",
      "    pharm\n",
      "    pharmacy\n",
      "----\n",
      "    france's\n",
      "    russia's\n",
      "    brazil's\n",
      "    japan's\n",
      "    germany's\n",
      "    canada's\n",
      "    italy's\n",
      "    india's\n",
      "    greece's\n",
      "    spain's\n",
      "----\n"
     ]
    }
   ],
   "source": [
    "for idx in inertia_rank[:10]:\n",
    "    for i in range(10):\n",
    "        word_idx = sim_rank[idx][i]\n",
    "        print(f\"   {tokenizer.idx_to_token[word_idx]}\")\n",
    "\n",
    "    print(\"----\")"
   ]
  },
  {
   "cell_type": "code",
   "execution_count": null,
   "id": "2b151dd0",
   "metadata": {},
   "outputs": [
    {
     "data": {
      "image/png": "[encoded data removed]",
      "text/plain": [
       "<Figure size 640x480 with 1 Axes>"
      ]
     },
     "metadata": {},
     "output_type": "display_data"
    }
   ],
   "source": [
    "plt.hist(inertia_list, bins=np.linspace(0, 200, 50))\n",
    "plt.show()"
   ]
  },
  {
   "cell_type": "markdown",
   "id": "ed925aca",
   "metadata": {},
   "source": [
    "## Five Epochs"
   ]
  },
  {
   "cell_type": "code",
   "execution_count": null,
   "id": "40d23e32",
   "metadata": {},
   "outputs": [],
   "source": [
    "del model\n",
    "model, loss_train_list, loss_test_list = load_model(\"../models/checkpoint_transformer_5epoch.pth\")"
   ]
  },
  {
   "cell_type": "code",
   "execution_count": null,
   "id": "fe7d1968",
   "metadata": {},
   "outputs": [],
   "source": [
    "embed_clust = EmbeddingClustering(tokenizer, n_clusters = 300)\n",
    "\n",
    "sim_rank, inertia_rank, inertia_list = embed_clust.fit(model.get_word_embed())\n",
    "print(np.median(inertia_list), np.mean(inertia_list), np.std(inertia_list))"
   ]
  },
  {
   "cell_type": "code",
   "execution_count": null,
   "id": "9ca1bedd",
   "metadata": {},
   "outputs": [],
   "source": [
    "for idx in inertia_rank[:10]:\n",
    "    for i in range(10):\n",
    "        word_idx = sim_rank[idx][i]\n",
    "        print(f\"   {tokenizer.idx_to_token[word_idx]}\")\n",
    "\n",
    "    print(\"----\")"
   ]
  },
  {
   "cell_type": "code",
   "execution_count": null,
   "id": "a58eb049",
   "metadata": {},
   "outputs": [],
   "source": [
    "plt.hist(inertia_list, bins=np.linspace(0, 200, 50))\n",
    "plt.show()"
   ]
  }
 ],
 "metadata": {
  "kernelspec": {
   "display_name": "env_transformer",
   "language": "python",
   "name": "python3"
  },
  "language_info": {
   "codemirror_mode": {
    "name": "ipython",
    "version": 3
   },
   "file_extension": ".py",
   "mimetype": "text/x-python",
   "name": "python",
   "nbconvert_exporter": "python",
   "pygments_lexer": "ipython3",
   "version": "3.12.2"
  }
 },
 "nbformat": 4,
 "nbformat_minor": 5
}

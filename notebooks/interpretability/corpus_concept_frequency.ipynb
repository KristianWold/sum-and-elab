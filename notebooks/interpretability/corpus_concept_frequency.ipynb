{
 "cells": [
  {
   "cell_type": "markdown",
   "id": "04010a08",
   "metadata": {},
   "source": [
    "## LLM"
   ]
  },
  {
   "cell_type": "code",
   "execution_count": 1,
   "id": "8fa3d166",
   "metadata": {},
   "outputs": [
    {
     "name": "stdout",
     "output_type": "stream",
     "text": [
      "PyTorch version: 2.7.1+cu128\n",
      "CUDA toolkit version PyTorch was built with: 12.8\n",
      "cuDNN version: 90701\n",
      "cuda available: True\n"
     ]
    }
   ],
   "source": [
    "import torch as torch\n",
    "import numpy as np\n",
    "import pickle as pkl\n",
    "from tqdm.notebook import tqdm\n",
    "from transformer_kristianwold.transformer import Transformer, Inference\n",
    "from transformer_kristianwold.optimization import train_step, forward_and_loss, group_decay_parameters, save_checkpoint, load_checkpoint\n",
    "from transformer_kristianwold.utils import saver, loader\n",
    "from transformer_kristianwold.analysis import word_sim_to_vocab, cosine_similarity\n",
    "from torch.utils.data import TensorDataset, DataLoader\n",
    "from IPython.display import clear_output\n",
    "import matplotlib.pyplot as plt\n",
    "from transformer_kristianwold.analysis import EmbeddingClustering\n",
    "\n",
    "print(\"PyTorch version:\", torch.__version__)  \n",
    "print(\"CUDA toolkit version PyTorch was built with:\", torch.version.cuda)  \n",
    "print(\"cuDNN version:\", torch.backends.cudnn.version()) \n",
    "print(\"cuda available:\", torch.cuda.is_available())\n",
    "\n",
    "device = torch.device(\"cpu\")\n",
    "torch.set_float32_matmul_precision('high')"
   ]
  },
  {
   "cell_type": "markdown",
   "id": "6fb06f6e",
   "metadata": {},
   "source": [
    "## Load"
   ]
  },
  {
   "cell_type": "code",
   "execution_count": 2,
   "id": "f9b5a271",
   "metadata": {},
   "outputs": [],
   "source": [
    "highlight_train_list = loader(\"../../corpus/cnn_dailymail_highlight_train_cleaned.pkl\")\n",
    "article_train_list = loader(\"../../corpus/cnn_dailymail_article_train_cleaned.pkl\")\n",
    "\n",
    "highlight_test_list = loader(\"../../corpus/cnn_dailymail_highlight_test_cleaned.pkl\")\n",
    "article_test_list = loader(\"../../corpus/cnn_dailymail_article_test_cleaned.pkl\")"
   ]
  },
  {
   "cell_type": "markdown",
   "id": "7750b41d",
   "metadata": {},
   "source": [
    "## Concept Count"
   ]
  },
  {
   "cell_type": "code",
   "execution_count": 11,
   "id": "4a65d72d",
   "metadata": {},
   "outputs": [
    {
     "name": "stdout",
     "output_type": "stream",
     "text": [
      "{'sierra leone': 3336, 'liberia': 4609, 'england': 80537, 'usa': 85714}\n"
     ]
    }
   ],
   "source": [
    "train_list = highlight_train_list + article_train_list\n",
    "\n",
    "count_dict = {\"sierra leone\":0, \"liberia\":0, \"england\":0, \"usa\":0}\n",
    "\n",
    "for text in train_list:\n",
    "    for key in count_dict.keys():\n",
    "        count_dict[key] += text.count(key)\n",
    "\n",
    "print(count_dict)"
   ]
  },
  {
   "cell_type": "markdown",
   "id": "c2311544",
   "metadata": {},
   "source": [
    "## Co-occurance"
   ]
  },
  {
   "cell_type": "code",
   "execution_count": 6,
   "id": "06c7e55d",
   "metadata": {},
   "outputs": [
    {
     "name": "stdout",
     "output_type": "stream",
     "text": [
      "298\n"
     ]
    }
   ],
   "source": [
    "luton_london_cooccur = 0\n",
    "\n",
    "for text in train_list:\n",
    "    if \"luton\" in text and \"london\" in text:\n",
    "        luton_london_cooccur += 1\n",
    "print(luton_london_cooccur)"
   ]
  },
  {
   "cell_type": "code",
   "execution_count": null,
   "id": "2f188168",
   "metadata": {},
   "outputs": [
    {
     "name": "stdout",
     "output_type": "stream",
     "text": [
      "4056\n"
     ]
    }
   ],
   "source": [
    "syria_terror_cooccur = 0\n",
    "syria_occur = 0\n",
    "terror_occur = 0\n",
    "\n",
    "for text in train_list:\n",
    "    if \"syria\" in text:\n",
    "        syria_occur += 1\n",
    "    if \"terror\" in text:\n",
    "        terror_occur += 1\n",
    "    if \"syria\" in text and \"terror\" in text:\n",
    "        syria_terror_cooccur += 1\n",
    "print(syria_terror_cooccur)"
   ]
  }
 ],
 "metadata": {
  "kernelspec": {
   "display_name": "env_transformer",
   "language": "python",
   "name": "python3"
  },
  "language_info": {
   "codemirror_mode": {
    "name": "ipython",
    "version": 3
   },
   "file_extension": ".py",
   "mimetype": "text/x-python",
   "name": "python",
   "nbconvert_exporter": "python",
   "pygments_lexer": "ipython3",
   "version": "3.12.2"
  }
 },
 "nbformat": 4,
 "nbformat_minor": 5
}
